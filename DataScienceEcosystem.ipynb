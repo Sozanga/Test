{
 "cells": [
  {
   "cell_type": "markdown",
   "id": "1840323f-d267-4ce3-9fef-a5927d56c5bd",
   "metadata": {},
   "source": [
    "# Data Science Tools and Ecosystem"
   ]
  },
  {
   "cell_type": "markdown",
   "id": "0a217df3-68e4-4d84-92de-f033c615032d",
   "metadata": {},
   "source": [
    "### In this notebook, Data Science Tools and Ecosystem are summarized"
   ]
  },
  {
   "cell_type": "markdown",
   "id": "9ac7b82c-d0db-4461-8d37-f6801ac1f3c7",
   "metadata": {},
   "source": [
    "## Data Science language"
   ]
  },
  {
   "cell_type": "markdown",
   "id": "839d797d-f78a-467e-88f7-d9d1c4edf3bf",
   "metadata": {},
   "source": [
    "# Some of the popular languages that Data Scientists use are:\n",
    "### - Python\n",
    "### - R\n",
    "### - Java"
   ]
  },
  {
   "cell_type": "markdown",
   "id": "c4b41855-d25c-40df-9679-88fef6a3fbfd",
   "metadata": {},
   "source": [
    "# Some of the commonly used libraries used by Data Scientists include:\n",
    "### - Seaborn\n",
    "### - Tensorflow\n",
    "### - Scikit-learn"
   ]
  },
  {
   "cell_type": "markdown",
   "id": "3286d62d-ab75-498f-8ffd-4098d6f1c3ec",
   "metadata": {},
   "source": [
    "| Data Science Tools        |\n",
    "  |---------------------------|\n",
    "  | Jupyter Notebook          |\n",
    "  | RStudio                   |\n",
    "  | VS Code                   |\n"
   ]
  },
  {
   "cell_type": "code",
   "execution_count": null,
   "id": "875670df-3dae-4a1f-861f-a3bba56e8cd5",
   "metadata": {},
   "outputs": [],
   "source": []
  },
  {
   "cell_type": "markdown",
   "id": "0366b2a9-ad02-443e-87d3-151079efe495",
   "metadata": {},
   "source": [
    "# Objectives "
   ]
  },
  {
   "cell_type": "markdown",
   "id": "d5ea8420-813b-4caf-a497-8353149f293d",
   "metadata": {},
   "source": [
    "### . List popular language for Data Sciences\n",
    "### . List Commonly librairies used for Data Sciences\n",
    "### . Create and format Rmarkdown Cell in Jupyter\n",
    "### . Perform arithmetic operations using code cells\n"
   ]
  },
  {
   "cell_type": "markdown",
   "id": "5cfc902e-9de0-4e2b-8b02-fa3369d9798f",
   "metadata": {},
   "source": [
    "# Author"
   ]
  },
  {
   "cell_type": "markdown",
   "id": "17dd294f-c1b1-4ba1-9b2a-4fa6e0c40921",
   "metadata": {},
   "source": [
    "#### SANOU Yaya Sozanga"
   ]
  },
  {
   "cell_type": "code",
   "execution_count": null,
   "id": "4f090f05-193a-4494-b565-39e28053e7cf",
   "metadata": {},
   "outputs": [],
   "source": []
  }
 ],
 "metadata": {
  "kernelspec": {
   "display_name": "Python 3 (ipykernel)",
   "language": "python",
   "name": "python3"
  },
  "language_info": {
   "codemirror_mode": {
    "name": "ipython",
    "version": 3
   },
   "file_extension": ".py",
   "mimetype": "text/x-python",
   "name": "python",
   "nbconvert_exporter": "python",
   "pygments_lexer": "ipython3",
   "version": "3.12.8"
  }
 },
 "nbformat": 4,
 "nbformat_minor": 5
}
